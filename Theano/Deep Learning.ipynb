{
 "cells": [
  {
   "cell_type": "markdown",
   "metadata": {},
   "source": [
    "## Deep Learning using Theano\n",
    "\n",
    "Getting Theano setup using Conda\n",
    "    1. pip install theano \n",
    "    2. conda install mingw libpython"
   ]
  },
  {
   "cell_type": "code",
   "execution_count": 9,
   "metadata": {
    "collapsed": false
   },
   "outputs": [],
   "source": [
    "import theano\n",
    "import numpy as np"
   ]
  },
  {
   "cell_type": "code",
   "execution_count": 3,
   "metadata": {
    "collapsed": true
   },
   "outputs": [],
   "source": [
    "import theano.tensor as T\n",
    "from theano import function"
   ]
  },
  {
   "cell_type": "markdown",
   "metadata": {},
   "source": [
    "#### Sample computations using theano and tensor"
   ]
  },
  {
   "cell_type": "code",
   "execution_count": 31,
   "metadata": {
    "collapsed": false
   },
   "outputs": [
    {
     "data": {
      "text/plain": [
       "array([ 121.,  484.])"
      ]
     },
     "execution_count": 31,
     "metadata": {},
     "output_type": "execute_result"
    }
   ],
   "source": [
    "x = theano.tensor.vector()\n",
    "y = theano.tensor.vector()\n",
    "z = x**2 + y**2 + 2*x*y\n",
    "f = theano.function([x,y],z)\n",
    "\n",
    "f([1, 2], [10, 20])"
   ]
  },
  {
   "cell_type": "markdown",
   "metadata": {},
   "source": [
    "### Logistic Regression \n",
    "\n",
    "# $ F(x) = \\frac{1}{1 + \\exp^{- (w \\cdot x) - bias}}$\n",
    "\n"
   ]
  },
  {
   "cell_type": "code",
   "execution_count": 57,
   "metadata": {
    "collapsed": true
   },
   "outputs": [],
   "source": [
    "N = 400                                   # training sample size\n",
    "feats = 784 \n",
    "\n",
    "x = T.matrix(\"x\")\n",
    "y = T.vector(\"y\")\n",
    "b = theano.shared(0., name=\"b\")\n",
    "\n",
    "w = theano.shared(np.random.randn(feats), name=\"w\")\n",
    "\n",
    "\n",
    "p_1 = 1 / (1 + T.exp(-T.dot(x, w) - b))   # Probability that target = 1\n",
    "prediction = p_1 > 0.5                    # The prediction thresholded\n",
    "xent = -y * T.log(p_1) - (1-y) * T.log(1-p_1) # Cross-entropy loss function\n",
    "cost = xent.mean() + 0.01 * (w ** 2).sum()# The cost to minimize\n",
    "gw, gb = T.grad(cost, [w, b])             # Compute the gradient of the cost\n",
    "                               \n",
    "   \n",
    " "
   ]
  },
  {
   "cell_type": "code",
   "execution_count": 58,
   "metadata": {
    "collapsed": true
   },
   "outputs": [],
   "source": [
    "train = theano.function(\n",
    "          inputs=[x,y],\n",
    "          outputs=[prediction, xent],\n",
    "          updates=((w, w - 0.1 * gw), (b, b - 0.1 * gb)))\n",
    "predict = theano.function(inputs=[x], outputs=prediction)"
   ]
  },
  {
   "cell_type": "code",
   "execution_count": 59,
   "metadata": {
    "collapsed": true
   },
   "outputs": [],
   "source": [
    "def getdata_CSV(filename):\n",
    "    return np.genfromtxt(filename,delimiter=\",\")\n",
    "data = getdata_CSV(\"Data_2D.csv\")"
   ]
  },
  {
   "cell_type": "code",
   "execution_count": 62,
   "metadata": {
    "collapsed": false
   },
   "outputs": [],
   "source": [
    "D = (np.random.randn(N, feats), np.random.randint(size=N, low=0, high=2))\n",
    "training_steps = 10\n",
    "pred, err = train(D[0], D[1])\n",
    "   "
   ]
  },
  {
   "cell_type": "code",
   "execution_count": 65,
   "metadata": {
    "collapsed": false
   },
   "outputs": [
    {
     "data": {
      "text/plain": [
       "(400L,)"
      ]
     },
     "execution_count": 65,
     "metadata": {},
     "output_type": "execute_result"
    }
   ],
   "source": [
    "D[0].shape\n",
    "D[1].shape"
   ]
  },
  {
   "cell_type": "code",
   "execution_count": 68,
   "metadata": {
    "collapsed": false
   },
   "outputs": [
    {
     "data": {
      "text/plain": [
       "array([ 0,  0,  1,  1,  1,  1,  0,  1, -1, -1, -1,  0,  0,  0,  0,  1,  0,\n",
       "        0,  1,  1,  0,  0,  1, -1,  1,  0,  1, -1,  0, -1,  0,  0,  1,  0,\n",
       "        1,  0, -1,  0, -1,  0,  0, -1,  0,  0,  1,  0,  0,  0,  0,  1, -1,\n",
       "        1,  0,  1,  0,  0,  0,  1,  0,  0,  0,  0,  0,  0,  1,  0, -1,  0,\n",
       "       -1,  0,  0,  0,  0,  0,  0,  1,  0, -1,  1, -1, -1,  0,  0,  1,  0,\n",
       "        0,  0, -1, -1, -1,  0,  0,  0,  0,  1,  0,  0,  1,  0, -1,  0,  1,\n",
       "        0,  0,  1,  1,  1,  0,  0,  1,  0,  1,  1, -1,  0,  0,  0,  1,  1,\n",
       "        0,  1,  1,  1,  0, -1,  0,  0,  0,  0,  0,  0, -1,  1,  0, -1,  0,\n",
       "        1, -1,  0,  0, -1,  0,  0,  0,  1,  0,  1,  1, -1,  0,  0,  0, -1,\n",
       "        1,  1,  1,  0, -1,  0,  1,  1, -1,  0,  0,  0, -1,  1,  0,  0,  0,\n",
       "       -1,  0,  1,  1,  1,  1,  0, -1,  1, -1,  1, -1, -1, -1, -1,  0,  0,\n",
       "        0, -1,  1,  0,  0,  0,  0,  1,  0,  0,  1,  0,  1, -1, -1,  0,  0,\n",
       "        1,  1,  0, -1, -1, -1,  1, -1, -1, -1,  0, -1,  0, -1,  0,  0, -1,\n",
       "        0, -1,  0,  0,  0,  0,  0,  0, -1,  1, -1,  0,  0, -1,  1, -1,  0,\n",
       "        1,  0,  1,  0,  0,  1,  1,  0,  0,  0, -1, -1, -1,  0,  0,  0,  1,\n",
       "        0,  0, -1, -1,  0,  0,  0,  1,  1,  1,  1,  0,  0, -1,  1,  0,  0,\n",
       "        1,  0,  0,  1,  0, -1,  0,  1,  1,  0,  0,  0,  0,  0,  1, -1, -1,\n",
       "        0,  0,  0, -1,  0, -1, -1,  0, -1, -1,  0,  1,  0, -1,  0,  0,  0,\n",
       "        0,  1, -1,  0,  0,  0, -1,  0,  1,  0, -1, -1,  0,  1,  0,  1, -1,\n",
       "        0,  1,  1,  0,  0, -1,  0, -1,  0,  1,  1,  1,  1,  1,  0,  0, -1,\n",
       "        0,  0,  0,  1,  0,  1, -1,  1,  1, -1,  0,  1,  0,  0,  1,  0, -1,\n",
       "        0,  0,  0,  1,  0,  0, -1,  0, -1, -1,  0,  1,  0,  1,  1, -1,  1,\n",
       "        1,  0,  0,  0,  0,  1, -1,  0,  1,  1,  1,  0, -1, -1,  0,  0, -1,\n",
       "        0,  1, -1, -1, -1,  0,  0,  0,  0])"
      ]
     },
     "execution_count": 68,
     "metadata": {},
     "output_type": "execute_result"
    }
   ],
   "source": [
    "predict(D[0]) - D[1]"
   ]
  },
  {
   "cell_type": "code",
   "execution_count": null,
   "metadata": {
    "collapsed": true
   },
   "outputs": [],
   "source": []
  }
 ],
 "metadata": {
  "kernelspec": {
   "display_name": "Python 2",
   "language": "python",
   "name": "python2"
  },
  "language_info": {
   "codemirror_mode": {
    "name": "ipython",
    "version": 2
   },
   "file_extension": ".py",
   "mimetype": "text/x-python",
   "name": "python",
   "nbconvert_exporter": "python",
   "pygments_lexer": "ipython2",
   "version": "2.7.11"
  }
 },
 "nbformat": 4,
 "nbformat_minor": 0
}
